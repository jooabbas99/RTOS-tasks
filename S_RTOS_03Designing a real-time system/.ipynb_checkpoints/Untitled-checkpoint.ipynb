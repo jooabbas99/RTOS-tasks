{
 "cells": [
  {
   "cell_type": "code",
   "execution_count": 22,
   "id": "01209e68",
   "metadata": {},
   "outputs": [
    {
     "data": {
      "image/png": "[encoded data removed]",
      "text/plain": [
       "<Figure size 1440x72 with 1 Axes>"
      ]
     },
     "metadata": {
      "needs_background": "light"
     },
     "output_type": "display_data"
    }
   ],
   "source": [
    "import pandas as pd\n",
    "import matplotlib.pyplot as plt\n",
    "import numpy as np\n",
    "\n",
    "# Example DataFrame of tasks\n",
    "df = pd.DataFrame({\n",
    "    'Task': ['Task T1', 'Task T2', 'Task T3', 'Task T4','Task T5','Task T1', 'Task T2', 'Task T3', 'Task T4','Task T5'],\n",
    "    'Start': [0, 2, 3.5, 6.5,9,10, 12, 13.5, 16.5,19],\n",
    "    'Finish': [2, 3.5, 6.5, 9,10,12, 13.5, 16.5, 19,20]\n",
    "})\n",
    "\n",
    "# Calculate the duration of each task\n",
    "df['Duration'] = df['Finish'] - df['Start']\n",
    "\n",
    "# Set the task names as the DataFrame index\n",
    "df.set_index('Task', inplace=True)\n",
    "\n",
    "# Sort tasks by their start times\n",
    "df.sort_values('Start', inplace=True)\n",
    "\n",
    "# Create a new column for the y-axis position of each task\n",
    "df['YPos'] = 0\n",
    "\n",
    "# Plot the Gantt chart\n",
    "fig, ax = plt.subplots(figsize=(20, 1))\n",
    "\n",
    "# Plot the horizontal bars\n",
    "colors = plt.cm.tab10(np.linspace(0, 1, 5))\n",
    "for i, (task, row) in enumerate(df.iterrows()):\n",
    "    ax.barh(row['YPos'], row['Duration'], left=row['Start'], height=0.5, align='center', color=colors[i%5])\n",
    "    ax.text((row['Start'] + row['Finish']) / 2, row['YPos'], task, ha='center', va='center')\n",
    "\n",
    "# Set y-axis limits and remove ticks\n",
    "ax.set_ylim([-1, 1])\n",
    "ax.set_yticks([])\n",
    "\n",
    "# Set x-axis labels and limits\n",
    "ax.set_xlabel('Time')\n",
    "ax.set_xlim([df['Start'].min() - 1, df['Finish'].max() + 1])\n",
    "\n",
    "# Set chart title\n",
    "ax.set_title('Gantt Chart')\n",
    "\n",
    "# Display the chart\n",
    "plt.show()\n"
   ]
  },
  {
   "cell_type": "code",
   "execution_count": null,
   "id": "704b56b6",
   "metadata": {},
   "outputs": [],
   "source": []
  }
 ],
 "metadata": {
  "kernelspec": {
   "display_name": "Python 3 (ipykernel)",
   "language": "python",
   "name": "python3"
  },
  "language_info": {
   "codemirror_mode": {
    "name": "ipython",
    "version": 3
   },
   "file_extension": ".py",
   "mimetype": "text/x-python",
   "name": "python",
   "nbconvert_exporter": "python",
   "pygments_lexer": "ipython3",
   "version": "3.9.12"
  }
 },
 "nbformat": 4,
 "nbformat_minor": 5
}
